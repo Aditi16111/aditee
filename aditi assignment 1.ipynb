{
 "cells": [
  {
   "cell_type": "code",
   "execution_count": 1,
   "id": "5ba7774d",
   "metadata": {},
   "outputs": [
    {
     "name": "stdout",
     "output_type": "stream",
     "text": [
      "0\n"
     ]
    }
   ],
   "source": [
    "#python program to generate a random number.\n",
    "import random\n",
    "print(random.randint(0,11))"
   ]
  },
  {
   "cell_type": "code",
   "execution_count": 3,
   "id": "36ca4c19",
   "metadata": {},
   "outputs": [
    {
     "name": "stdout",
     "output_type": "stream",
     "text": [
      "value of x: 7\n",
      "value of y: 5\n"
     ]
    }
   ],
   "source": [
    "#python program to swap two variables.\n",
    "x=5\n",
    "y=7\n",
    "temp=x\n",
    "x=y\n",
    "y=temp\n",
    "print(\"value of x:\",x)\n",
    "print(\"value of y:\",y)\n"
   ]
  },
  {
   "cell_type": "code",
   "execution_count": 4,
   "id": "dbcb43eb",
   "metadata": {},
   "outputs": [
    {
     "name": "stdout",
     "output_type": "stream",
     "text": [
      "enter the base:2.5\n",
      "enter the height:6.1\n",
      "area of triangle:: 7.625\n"
     ]
    }
   ],
   "source": [
    "#python program to calculate the area of triangle.\n",
    "base=float(input(\"enter the base:\"))\n",
    "height=float(input(\"enter the height:\"))\n",
    "area=1/2*height*base\n",
    "print(\"area of triangle::\",area)"
   ]
  },
  {
   "cell_type": "code",
   "execution_count": 7,
   "id": "e051f268",
   "metadata": {},
   "outputs": [
    {
     "name": "stdout",
     "output_type": "stream",
     "text": [
      "enter number:5\n",
      "factorial of given number:: 1\n",
      "factorial of given number:: 2\n",
      "factorial of given number:: 6\n",
      "factorial of given number:: 24\n",
      "factorial of given number:: 120\n"
     ]
    }
   ],
   "source": [
    "#python program to find the factorial of a number.\n",
    "n=int(input(\"enter number:\"))\n",
    "f=1\n",
    "for i in range(1,n+1):\n",
    "    f=f*i;\n",
    "    print(\"factorial of given number::\",f)"
   ]
  },
  {
   "cell_type": "code",
   "execution_count": 13,
   "id": "1fac534d",
   "metadata": {},
   "outputs": [
    {
     "name": "stdout",
     "output_type": "stream",
     "text": [
      "enter number:153\n",
      "sum= 27\n",
      " number is not armstrong\n",
      "sum= 152\n",
      " number is not armstrong\n",
      "sum= 153\n",
      " number is armstrong\n"
     ]
    }
   ],
   "source": [
    "#python program to check armstrong number.\n",
    "n=int(input(\"enter number:\"))\n",
    "n1=n\n",
    "sum=0\n",
    "while n>0:\n",
    "    d=n%10\n",
    "    sum=sum+(d*d*d)\n",
    "    n=n//10\n",
    "    print(\"sum=\",sum)\n",
    "    if (sum==n1):\n",
    "        print(\" number is armstrong\")\n",
    "    else:\n",
    "        print(\" number is not armstrong\")"
   ]
  },
  {
   "cell_type": "code",
   "execution_count": 14,
   "id": "641d0644",
   "metadata": {},
   "outputs": [
    {
     "name": "stdout",
     "output_type": "stream",
     "text": [
      "enter number:7\n",
      "number is prime\n"
     ]
    }
   ],
   "source": [
    "#python program to check number is prime or not.\n",
    "n=int(input(\"enter number:\"))\n",
    "flag=0\n",
    "for i in range(2,n):\n",
    "    if(n%i==0):\n",
    "        flag=1;\n",
    "        break\n",
    "if(flag==0):\n",
    "    print(\"number is prime\")\n",
    "else:\n",
    "    print(\"number is not prime\")"
   ]
  },
  {
   "cell_type": "code",
   "execution_count": 16,
   "id": "198f48c2",
   "metadata": {},
   "outputs": [
    {
     "name": "stdout",
     "output_type": "stream",
     "text": [
      "enter number:4\n",
      "number is even\n"
     ]
    }
   ],
   "source": [
    "#python program to check number is odd or even.\n",
    "n=int(input(\"enter number:\"))\n",
    "if(n%2)==0:\n",
    "    print(\"number is even\")\n",
    "else:\n",
    "    print(\"number is odd\")"
   ]
  },
  {
   "cell_type": "code",
   "execution_count": 18,
   "id": "03731966",
   "metadata": {},
   "outputs": [
    {
     "name": "stdout",
     "output_type": "stream",
     "text": [
      "enter number:6\n",
      "positive number\n"
     ]
    }
   ],
   "source": [
    "#python program to check number is positive,negative or zero.\n",
    "num=float(input(\"enter number:\"))\n",
    "if num>0:\n",
    "    print(\"positive number\")\n",
    "else:\n",
    "    print(\"negative number\")\n",
    "if num==0:\n",
    "    print(\"zero\")"
   ]
  },
  {
   "cell_type": "code",
   "execution_count": null,
   "id": "e8013600",
   "metadata": {},
   "outputs": [],
   "source": []
  },
  {
   "cell_type": "code",
   "execution_count": null,
   "id": "fca98607",
   "metadata": {},
   "outputs": [],
   "source": []
  }
 ],
 "metadata": {
  "kernelspec": {
   "display_name": "Python 3 (ipykernel)",
   "language": "python",
   "name": "python3"
  },
  "language_info": {
   "codemirror_mode": {
    "name": "ipython",
    "version": 3
   },
   "file_extension": ".py",
   "mimetype": "text/x-python",
   "name": "python",
   "nbconvert_exporter": "python",
   "pygments_lexer": "ipython3",
   "version": "3.9.13"
  }
 },
 "nbformat": 4,
 "nbformat_minor": 5
}
