{
 "cells": [
  {
   "cell_type": "code",
   "execution_count": 3,
   "id": "fd22cf46",
   "metadata": {},
   "outputs": [
    {
     "name": "stdout",
     "output_type": "stream",
     "text": [
      "sum of all the items in a list: 15\n"
     ]
    }
   ],
   "source": [
    "#python program to sum all the items in a list.\n",
    "list1=[1,2,3,4,5]\n",
    "total=sum(list1)\n",
    "print(\"sum of all the items in a list:\",total)"
   ]
  },
  {
   "cell_type": "code",
   "execution_count": 4,
   "id": "9c29f78c",
   "metadata": {},
   "outputs": [
    {
     "name": "stdout",
     "output_type": "stream",
     "text": [
      "[3, 2, 5, 4, 8, 9, 10]\n",
      "product:\n",
      "86400\n"
     ]
    }
   ],
   "source": [
    "#python program to multiplies all the items in a list.\n",
    "import math\n",
    "def mul_list(list):\n",
    "    return math.prod(list)\n",
    "list1=[3,2,5,4,8,9,10]\n",
    "print(list1)\n",
    "print(\"product:\")\n",
    "print(mul_list(list1))"
   ]
  },
  {
   "cell_type": "code",
   "execution_count": 9,
   "id": "f85f6b72",
   "metadata": {},
   "outputs": [
    {
     "name": "stdout",
     "output_type": "stream",
     "text": [
      "[(2, 1), (1, 2), (2, 3), (4, 4), (2, 5)]\n"
     ]
    }
   ],
   "source": [
    "#python program to get a list,sorted in increasing order by the last element in each tupple from a given list of non empty tuples.\n",
    "def last(n):\n",
    "    return n[-1]\n",
    "def sort_list_last(tuples):\n",
    "    return sorted(tuples,key=last)\n",
    "print(sort_list_last([(2,5),(1,2),(4,4),(2,3),(2,1)]))"
   ]
  },
  {
   "cell_type": "code",
   "execution_count": 10,
   "id": "49fc1891",
   "metadata": {},
   "outputs": [
    {
     "name": "stdout",
     "output_type": "stream",
     "text": [
      "(1, 'mango', 'banana', 4)\n"
     ]
    }
   ],
   "source": [
    "#python program to create a tuple.\n",
    "tuple1=(1,'mango','banana',4)\n",
    "print(tuple1)"
   ]
  },
  {
   "cell_type": "code",
   "execution_count": 11,
   "id": "23f34e12",
   "metadata": {},
   "outputs": [
    {
     "name": "stdout",
     "output_type": "stream",
     "text": [
      "('banana', 'apple', 'mango')\n",
      "datatype of fruits= <class 'tuple'>\n"
     ]
    }
   ],
   "source": [
    "#python program to create a tuple with different data types.\n",
    "fruits=('banana','apple','mango')\n",
    "x=tuple(fruits)\n",
    "print(x)\n",
    "print(\"datatype of fruits=\",type(x))"
   ]
  },
  {
   "cell_type": "code",
   "execution_count": 12,
   "id": "d95836e9",
   "metadata": {},
   "outputs": [
    {
     "name": "stdout",
     "output_type": "stream",
     "text": [
      "{2, 4, 6, 8, 10}\n"
     ]
    }
   ],
   "source": [
    "#python program to create a set.\n",
    "s1={2,4,6,8,10}\n",
    "print(s1)"
   ]
  },
  {
   "cell_type": "code",
   "execution_count": 13,
   "id": "a768c9ee",
   "metadata": {},
   "outputs": [
    {
     "name": "stdout",
     "output_type": "stream",
     "text": [
      "0 1 2 3 4 5 "
     ]
    }
   ],
   "source": [
    "#python program to iterate over sets.\n",
    "num_set={0,1,2,3,4,5}\n",
    "for value,char in enumerate(num_set):\n",
    "    print(char,end=' ')"
   ]
  },
  {
   "cell_type": "code",
   "execution_count": 14,
   "id": "e895ef6b",
   "metadata": {},
   "outputs": [
    {
     "name": "stdout",
     "output_type": "stream",
     "text": [
      "\n",
      "Original sets:\n",
      "{1, 2, 3, 4, 5}\n",
      "{1, 5, 6, 7, 8, 9}\n",
      "{3, 4, 5, 9, 10}\n",
      "{5, 7, 9, 10, 12, 14}\n",
      "\n",
      "Difference of setn1 - setn2,setn3,setn4:\n",
      "{2}\n",
      "\n",
      "Difference of setn4 - setn1,setn2,setn3:\n",
      "{12, 14}\n"
     ]
    }
   ],
   "source": [
    "#python program to create a set difference.\n",
    "setn1 = set([1, 1, 2, 3, 4, 5])\n",
    "setn2 = set([1, 5, 6, 7, 8, 9])\n",
    "setn3 = set([3, 4, 5, 3, 9, 10])\n",
    "setn4 = set([5, 7, 9, 10, 12, 14])\n",
    "print(\"\\nOriginal sets:\")\n",
    "print(setn1)\n",
    "print(setn2)\n",
    "print(setn3)\n",
    "print(setn4)\n",
    "print(\"\\nDifference of setn1 - setn2,setn3,setn4:\")\n",
    "r1 = setn1.difference(setn2,setn3,setn4)\n",
    "print(r1)\n",
    "print(\"\\nDifference of setn4 - setn1,setn2,setn3:\")\n",
    "r2 = setn4.difference(setn1,setn2,setn3)\n",
    "print(r2)"
   ]
  },
  {
   "cell_type": "code",
   "execution_count": 15,
   "id": "9c3f63c7",
   "metadata": {},
   "outputs": [
    {
     "name": "stdout",
     "output_type": "stream",
     "text": [
      "{6: 3, 5: 4, 1: 6}\n"
     ]
    }
   ],
   "source": [
    "#python script to sort a dictionary by value.\n",
    "dt = {5:4, 1:6, 6:3}\n",
    "\n",
    "sorted_dt = {key: value for key, value in sorted(dt.items(), key=lambda item: item[1])}\n",
    "\n",
    "print(sorted_dt)"
   ]
  },
  {
   "cell_type": "code",
   "execution_count": 16,
   "id": "4de8b916",
   "metadata": {},
   "outputs": [
    {
     "name": "stdout",
     "output_type": "stream",
     "text": [
      "{0: 10, 1: 20}\n",
      "{0: 10, 1: 20, 2: 30}\n"
     ]
    }
   ],
   "source": [
    "#python script to add a key to a dictionary.\n",
    "d = {0:10, 1:20}\n",
    "print(d)\n",
    "d.update({2:30})\n",
    "print(d)"
   ]
  },
  {
   "cell_type": "code",
   "execution_count": 18,
   "id": "86320d12",
   "metadata": {},
   "outputs": [
    {
     "name": "stdout",
     "output_type": "stream",
     "text": [
      "a juice\n",
      "b milkshake\n",
      "c chocolate\n"
     ]
    }
   ],
   "source": [
    "#python program to iterate over dictionaries over for loop.\n",
    "dt = {'a': 'juice', 'b': 'milkshake', 'c': 'chocolate'}\n",
    "\n",
    "for key in dt:\n",
    "    print(key,dt[key])"
   ]
  },
  {
   "cell_type": "code",
   "execution_count": 19,
   "id": "d7f0ea15",
   "metadata": {},
   "outputs": [
    {
     "name": "stdout",
     "output_type": "stream",
     "text": [
      "[2, 4, 5, 10, 20]\n"
     ]
    }
   ],
   "source": [
    "#python program to remove duplicates from a list.\n",
    "duplicate=[2,4,10,20,5,2,20,4]\n",
    "print(list(set(duplicate)))"
   ]
  },
  {
   "cell_type": "code",
   "execution_count": 20,
   "id": "9bd42080",
   "metadata": {},
   "outputs": [
    {
     "name": "stdout",
     "output_type": "stream",
     "text": [
      "non empty\n"
     ]
    }
   ],
   "source": [
    "#python program  to check a list is empty or not.\n",
    "list=['aditi','sandip','bankar']\n",
    "if len(list)>0 :\n",
    "    print(\"non empty\")\n",
    "else:\n",
    "    print(\"empty\")"
   ]
  },
  {
   "cell_type": "code",
   "execution_count": 29,
   "id": "f81a2543",
   "metadata": {},
   "outputs": [
    {
     "name": "stdout",
     "output_type": "stream",
     "text": [
      "(1, 2, 3, 4)\n"
     ]
    }
   ],
   "source": [
    "#python program to convert a list to a tuple.\n",
    "def convert(list): \n",
    "\n",
    "    return tuple(list) \n",
    "\n",
    "list = [1, 2, 3, 4] \n",
    "\n",
    "print(convert(list))"
   ]
  },
  {
   "cell_type": "code",
   "execution_count": 32,
   "id": "6cf59440",
   "metadata": {},
   "outputs": [
    {
     "name": "stdout",
     "output_type": "stream",
     "text": [
      "Tuple Items =  (9, 11, 22, 45, 67, 89, 15, 25, 19)\n",
      "After Removing 4th Tuple Item =  (9, 11, 22, 67, 89, 15, 25, 19)\n",
      "After Removing 5th and 6th Tuple Item =  (9, 11, 22, 67, 89, 19)\n"
     ]
    }
   ],
   "source": [
    "#python program to Remove an Item from Tuple\n",
    "\n",
    "numTuple = (9, 11, 22, 45, 67, 89, 15, 25, 19)\n",
    "print(\"Tuple Items = \", numTuple)\n",
    "\n",
    "numTuple = numTuple[:3] + numTuple[4:]\n",
    "print(\"After Removing 4th Tuple Item = \", numTuple)\n",
    "\n",
    "numTuple = numTuple[:5] + numTuple[7:]\n",
    "print(\"After Removing 5th and 6th Tuple Item = \",numTuple)"
   ]
  },
  {
   "cell_type": "code",
   "execution_count": 33,
   "id": "6fb348f6",
   "metadata": {},
   "outputs": [
    {
     "name": "stdout",
     "output_type": "stream",
     "text": [
      "Sliced Tuple : (2, 5, 8, 1)\n"
     ]
    }
   ],
   "source": [
    "#python program to slice a tuple\n",
    "Tuple = (2, 5, 8, 1, 9, 3, 7, 4)\n",
    "stop = 4\n",
    "indices = slice(stop)\n",
    "result = Tuple[indices]\n",
    "print('Sliced Tuple :', result)"
   ]
  },
  {
   "cell_type": "code",
   "execution_count": 35,
   "id": "d50c49b8",
   "metadata": {},
   "outputs": [
    {
     "name": "stdout",
     "output_type": "stream",
     "text": [
      "('a', 'd', 'i', 't', 'i')\n",
      "5\n"
     ]
    }
   ],
   "source": [
    "#python program to find the length of a tuple.\n",
    "tuplex=tuple('aditi')\n",
    "print(tuplex)\n",
    "print(len(tuplex))"
   ]
  },
  {
   "cell_type": "code",
   "execution_count": 36,
   "id": "50407354",
   "metadata": {},
   "outputs": [
    {
     "name": "stdout",
     "output_type": "stream",
     "text": [
      "x:  {'mango', 'apple'}\n",
      "y:  {'orange', 'mango'}\n",
      "z:  {'mango'} \n",
      "\n",
      "If x is subset of y\n",
      "False\n",
      "False\n",
      "If y is subset of x\n",
      "False\n",
      "False\n",
      "\n",
      "If y is subset of z\n",
      "False\n",
      "False\n",
      "If z is subset of y\n",
      "True\n",
      "True\n"
     ]
    }
   ],
   "source": [
    "#python program to check if a set is a subset of a another set.\n",
    "setx = set([\"apple\", \"mango\"])\n",
    "sety = set([\"mango\", \"orange\"])\n",
    "setz = set([\"mango\"])\n",
    "print(\"x: \",setx)\n",
    "print(\"y: \",sety)\n",
    "print(\"z: \",setz,\"\\n\")\n",
    "print(\"If x is subset of y\")\n",
    "print(setx <= sety)\n",
    "print(setx.issubset(sety))\n",
    "print(\"If y is subset of x\")\n",
    "print(sety <= setx)\n",
    "print(sety.issubset(setx))\n",
    "print(\"\\nIf y is subset of z\")\n",
    "print(sety <= setz)\n",
    "print(sety.issubset(setz))\n",
    "print(\"If z is subset of y\")\n",
    "print(setz <= sety)\n",
    "print(setz.issubset(sety))"
   ]
  },
  {
   "cell_type": "code",
   "execution_count": 37,
   "id": "499b9711",
   "metadata": {},
   "outputs": [
    {
     "name": "stdout",
     "output_type": "stream",
     "text": [
      "Original set elements:\n",
      "{2, 3, 20, 5, 10, 15}\n",
      "<class 'set'>\n",
      "\n",
      "Maximum value of the set:\n",
      "20\n",
      "\n",
      "Minimum value of the set:\n",
      "2\n"
     ]
    }
   ],
   "source": [
    "#python program to find maximum and the minimum value in a set.\n",
    "setn = {5, 10, 3, 15, 2, 20}\n",
    "print(\"Original set elements:\")\n",
    "print(setn)\n",
    "print(type(setn))\n",
    "print(\"\\nMaximum value of the set:\")\n",
    "print(max(setn))\n",
    "print(\"\\nMinimum value of the set:\")\n",
    "print(min(setn))"
   ]
  },
  {
   "cell_type": "code",
   "execution_count": 38,
   "id": "69fce87c",
   "metadata": {},
   "outputs": [
    {
     "name": "stdout",
     "output_type": "stream",
     "text": [
      "the length of set is: 5\n"
     ]
    }
   ],
   "source": [
    "#python program to find the length of a set.\n",
    "n=len({1,2,3,4,5})\n",
    "print(\"the length of set is:\",n)"
   ]
  },
  {
   "cell_type": "code",
   "execution_count": 39,
   "id": "25e3298d",
   "metadata": {},
   "outputs": [
    {
     "name": "stdout",
     "output_type": "stream",
     "text": [
      "{'a': 100, 'b': 200, 'x': 300, 'y': 200}\n"
     ]
    }
   ],
   "source": [
    "#python program to merge a two python dictionaries.\n",
    "d1 = {'a': 100, 'b': 200}\n",
    "d2 = {'x': 300, 'y': 200}\n",
    "d = d1.copy()\n",
    "d.update(d2)\n",
    "print(d)"
   ]
  },
  {
   "cell_type": "code",
   "execution_count": null,
   "id": "618141a4",
   "metadata": {},
   "outputs": [],
   "source": []
  }
 ],
 "metadata": {
  "kernelspec": {
   "display_name": "Python 3 (ipykernel)",
   "language": "python",
   "name": "python3"
  },
  "language_info": {
   "codemirror_mode": {
    "name": "ipython",
    "version": 3
   },
   "file_extension": ".py",
   "mimetype": "text/x-python",
   "name": "python",
   "nbconvert_exporter": "python",
   "pygments_lexer": "ipython3",
   "version": "3.9.13"
  }
 },
 "nbformat": 4,
 "nbformat_minor": 5
}
