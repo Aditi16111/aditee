{
 "cells": [
  {
   "cell_type": "code",
   "execution_count": 1,
   "id": "f48d4580",
   "metadata": {},
   "outputs": [
    {
     "name": "stdout",
     "output_type": "stream",
     "text": [
      "enter string:naman\n",
      " string is not symmetrical\n"
     ]
    }
   ],
   "source": [
    "#python program to check whether the string is symmetrical or palindrome.\n",
    "s=input(\"enter string:\")\n",
    "n=len(s)\n",
    "flag=0\n",
    "if n%2==0:\n",
    "    i=0\n",
    "    i=n//2\n",
    "    while i<n//2 and j<n:\n",
    "        if s[i]==s[j]:\n",
    "            i=i+1\n",
    "            j=j+1\n",
    "        else:\n",
    "            flag=1\n",
    "        break\n",
    "else:\n",
    "        flag=1\n",
    "if flag==0:\n",
    "        print(\"string is symmetrical\")\n",
    "else:\n",
    "        print(\" string is not symmetrical\")\n",
    "        \n",
    "i=0\n",
    "j=n-1\n",
    "flag=0\n",
    "while i<n:\n",
    "    if(s[i]==s[n-1]):\n",
    "        i=i+1\n",
    "        j=j+1\n",
    "    else:\n",
    "        flag=1\n",
    "        break\n",
    "        if flag==10:\n",
    "            print(\"string is palindrome\")\n",
    "        else:\n",
    "            print(\"string is not palindrome\")"
   ]
  },
  {
   "cell_type": "code",
   "execution_count": 4,
   "id": "ad535833",
   "metadata": {},
   "outputs": [
    {
     "name": "stdout",
     "output_type": "stream",
     "text": [
      "enter string:aditi\n",
      "itida"
     ]
    }
   ],
   "source": [
    "#python program to reverse words in a string.\n",
    "s=input(\"enter string:\")\n",
    "w=s.split()\n",
    "for s1 in w:\n",
    "    for i in range(len(s1)-1,-1,-1):\n",
    "        print(s1[i],end=\"\")\n",
    "        print(\"\",end=\"\")"
   ]
  },
  {
   "cell_type": "code",
   "execution_count": 5,
   "id": "bdfa3c4d",
   "metadata": {},
   "outputs": [
    {
     "name": "stdout",
     "output_type": "stream",
     "text": [
      "enter stringaditi\n",
      "enter i th position:3\n",
      "after removing i th character= adii\n"
     ]
    }
   ],
   "source": [
    "#python program to remove i'th character from string in different ways.\n",
    "s=input(\"enter string\")\n",
    "i=int(input(\"enter i th position:\"))\n",
    "s1=s[0:i]+s[i+1:]\n",
    "print(\"after removing i th character=\",s1)"
   ]
  },
  {
   "cell_type": "code",
   "execution_count": 9,
   "id": "a7548da5",
   "metadata": {},
   "outputs": [
    {
     "name": "stdout",
     "output_type": "stream",
     "text": [
      "greater no= 90\n"
     ]
    }
   ],
   "source": [
    "#python function to find the max of the three numbers.\n",
    "def maximum(a,b,c):\n",
    "    if a>b and a>c:\n",
    "         print(\"greater no=\",a)\n",
    "\n",
    "         \n",
    "    elif b>a and a>c:\n",
    "         print(\"greater no=\",b)\n",
    "\n",
    "    else:\n",
    "        print(\"greater no=\",c)\n",
    "maximum(30,50,90)"
   ]
  },
  {
   "cell_type": "code",
   "execution_count": 10,
   "id": "c5c19058",
   "metadata": {},
   "outputs": [
    {
     "name": "stdout",
     "output_type": "stream",
     "text": [
      "sum of all elements in given list 11\n",
      "sum of all elements in given list 16\n",
      "sum of all elements in given list 33\n",
      "sum of all elements in given list 51\n",
      "sum of all elements in given list 74\n"
     ]
    }
   ],
   "source": [
    "#python function to sum all the number in a \n",
    "total =0\n",
    "list1=[11,5,17,18,23]\n",
    "for ele in range(0,len(list1)):\n",
    "    total=total+list1[ele]\n",
    "    print( \"sum of all elements in given list\",total)"
   ]
  },
  {
   "cell_type": "code",
   "execution_count": 12,
   "id": "15a50673",
   "metadata": {},
   "outputs": [
    {
     "name": "stdout",
     "output_type": "stream",
     "text": [
      "the original string is:aditi\n",
      "the reversed string(using loops)is:itida \n"
     ]
    }
   ],
   "source": [
    "#python program to reverse a string\n",
    "def reverse(s):\n",
    "    str=\" \"\n",
    "    for i in s:\n",
    "        str=i+str\n",
    "    return str\n",
    "s=\"aditi\"\n",
    "print(\"the original string is:\",end=\"\")\n",
    "print(s)\n",
    "print(\"the reversed string(using loops)is:\",end=\"\")\n",
    "print(reverse(s))"
   ]
  },
  {
   "cell_type": "code",
   "execution_count": 14,
   "id": "95da79dd",
   "metadata": {},
   "outputs": [
    {
     "name": "stdout",
     "output_type": "stream",
     "text": [
      "sandip\n",
      "bankar\n"
     ]
    }
   ],
   "source": [
    "#python program to print even length words in a string\n",
    "n=\"aditi sandip bankar\"\n",
    "s=n.split(\" \")\n",
    "for i in s:\n",
    "    if len(i)%2==0:\n",
    "        print(i)"
   ]
  },
  {
   "cell_type": "code",
   "execution_count": 15,
   "id": "0885c12b",
   "metadata": {},
   "outputs": [
    {
     "name": "stdout",
     "output_type": "stream",
     "text": [
      "enter string:elephant\n",
      "not accepted\n",
      "not accepted\n",
      "not accepted\n",
      "not accepted\n",
      "not accepted\n",
      "not accepted\n",
      "not accepted\n",
      "not accepted\n"
     ]
    }
   ],
   "source": [
    "#python program to accept the strng which contains all vowelse\n",
    "s=input(\"enter string:\")\n",
    "a=set([])\n",
    "vowels={'a','e','i','o','u'}\n",
    "for ch in s:\n",
    "    a.add(ch)\n",
    "    if len(a)==s:\n",
    "        print(\"accepted\")\n",
    "    else:\n",
    "        print(\"not accepted\")"
   ]
  },
  {
   "cell_type": "code",
   "execution_count": 16,
   "id": "50b26a3d",
   "metadata": {},
   "outputs": [
    {
     "name": "stdout",
     "output_type": "stream",
     "text": [
      "enter string 1:aditi\n",
      "enter string 2:bankar\n",
      "number of char same = 1\n"
     ]
    }
   ],
   "source": [
    "#python program to count the number of matching characters in a pair of string\n",
    "s1=input(\"enter string 1:\")\n",
    "s2=input(\"enter string 2:\")\n",
    "a=set([])\n",
    "for ch in s1:\n",
    "    if ch in s2:\n",
    "        a.add(ch)\n",
    "        print(\"number of char same =\",len(a))"
   ]
  },
  {
   "cell_type": "code",
   "execution_count": 17,
   "id": "bd2bdba6",
   "metadata": {},
   "outputs": [
    {
     "name": "stdout",
     "output_type": "stream",
     "text": [
      "the unique values form list is\n",
      "[10 20 30 40 50]\n"
     ]
    }
   ],
   "source": [
    "#python function that takes a list and return a new list with unique elements of the first list\n",
    "import numpy as np\n",
    "def unique(list1):\n",
    "    x=np.array(list1)\n",
    "    print(np.unique(x))\n",
    "list1=[10,20,30,10,20,40,50,10]\n",
    "print(\"the unique values form list is\")\n",
    "unique(list1)"
   ]
  },
  {
   "cell_type": "code",
   "execution_count": 22,
   "id": "45d3523a",
   "metadata": {},
   "outputs": [
    {
     "name": "stdout",
     "output_type": "stream",
     "text": [
      "enter a number:4\n",
      "not prime\n"
     ]
    }
   ],
   "source": [
    "#python function that takes a number as parameter and check the number is prime or not\n",
    "def prime(num):\n",
    "    count=0\n",
    "    if num>1:\n",
    "        for i in range(2,int(input(\"enter a number:\"))+1):\n",
    "            if i%num==0:\n",
    "                count=count+1\n",
    "                if count==2:\n",
    "                    print(\"number is prime\")\n",
    "                else:\n",
    "                        print(\"not prime\")\n",
    "prime(4)"
   ]
  },
  {
   "cell_type": "code",
   "execution_count": 29,
   "id": "ceb9fcbc",
   "metadata": {},
   "outputs": [
    {
     "name": "stdout",
     "output_type": "stream",
     "text": [
      "True\n"
     ]
    }
   ],
   "source": [
    "#python function to check whether number is perfect or not.\n",
    "def perfect_number(n):\n",
    "    sum = 0\n",
    "    for x in range(1, n):\n",
    "        if n % x == 0:\n",
    "            sum += x\n",
    "    return sum == n\n",
    "print(perfect_number(6))"
   ]
  },
  {
   "cell_type": "code",
   "execution_count": 28,
   "id": "e7f08baa",
   "metadata": {},
   "outputs": [
    {
     "name": "stdout",
     "output_type": "stream",
     "text": [
      "True\n"
     ]
    }
   ],
   "source": [
    "def perfect_number(n):\n",
    "    sum = 0\n",
    "    for x in range(1, n):\n",
    "        if n % x == 0:\n",
    "            sum += x\n",
    "    return sum == n\n",
    "print(perfect_number(6))"
   ]
  },
  {
   "cell_type": "code",
   "execution_count": null,
   "id": "2b9d4bc5",
   "metadata": {},
   "outputs": [],
   "source": []
  }
 ],
 "metadata": {
  "kernelspec": {
   "display_name": "Python 3 (ipykernel)",
   "language": "python",
   "name": "python3"
  },
  "language_info": {
   "codemirror_mode": {
    "name": "ipython",
    "version": 3
   },
   "file_extension": ".py",
   "mimetype": "text/x-python",
   "name": "python",
   "nbconvert_exporter": "python",
   "pygments_lexer": "ipython3",
   "version": "3.9.13"
  }
 },
 "nbformat": 4,
 "nbformat_minor": 5
}
