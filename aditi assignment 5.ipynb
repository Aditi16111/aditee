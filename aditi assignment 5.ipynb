{
 "cells": [
  {
   "cell_type": "code",
   "execution_count": 2,
   "id": "c901cc9f",
   "metadata": {},
   "outputs": [
    {
     "name": "stdout",
     "output_type": "stream",
     "text": [
      "Zero Division Error occurred\n"
     ]
    }
   ],
   "source": [
    "#python program to demonstrate the zero division error and overflow error.\n",
    "num_list=[]\n",
    "total=0\n",
    "try:\n",
    "    avg=total/len(num_list)\n",
    "    print(\"Average:\"+avg)\n",
    "except ZeroDivisionError:\n",
    "    print (\"Zero Division Error occurred\")"
   ]
  },
  {
   "cell_type": "code",
   "execution_count": 3,
   "id": "306d3e78",
   "metadata": {},
   "outputs": [
    {
     "name": "stdout",
     "output_type": "stream",
     "text": [
      "found a match!\n",
      "not matched!\n",
      "not matched!\n"
     ]
    }
   ],
   "source": [
    "#python program to find sequences of lowercase letters joined with a underscore.\n",
    "import re\n",
    "def text_match(text):\n",
    "    patterns='^[a-z]+_[a-z]+$'\n",
    "    if re.search(patterns,text):\n",
    "        return 'found a match!'\n",
    "    else:\n",
    "        return 'not matched!'\n",
    "print(text_match(\"aab_cbbc\"))\n",
    "print(text_match(\"aab_Abbc\"))\n",
    "print(text_match(\"Aaab_abbbc\"))\n",
    "\n",
    "\n",
    "     "
   ]
  },
  {
   "cell_type": "code",
   "execution_count": 4,
   "id": "9106834a",
   "metadata": {},
   "outputs": [
    {
     "name": "stdout",
     "output_type": "stream",
     "text": [
      "valid string\n",
      "invalid string\n"
     ]
    }
   ],
   "source": [
    "# python program to check if string contain only defined characters usingvre regex.\n",
    "import re\n",
    "def check(str,pattern):\n",
    "    if re.search(pattern,str):\n",
    "        print(\"valid string\")\n",
    "    else:\n",
    "        print(\"invalid string\")\n",
    "pattern=re.compile('^[1234]+$')\n",
    "check('2134',pattern)\n",
    "check('349',pattern)\n"
   ]
  },
  {
   "cell_type": "code",
   "execution_count": 5,
   "id": "a5c497e8",
   "metadata": {},
   "outputs": [
    {
     "name": "stdout",
     "output_type": "stream",
     "text": [
      "not matched!\n",
      "not matched!\n"
     ]
    }
   ],
   "source": [
    "#python program to match a string that contain only upper and lowercase letters,number,and  underscore.\n",
    "import re\n",
    "def text_match(text):\n",
    "    patterns='^[a-zA-Z0-9_]*$'\n",
    "    if re.search(patterns,text):\n",
    "        return 'found a match!'\n",
    "    else:\n",
    "        return 'not matched!'\n",
    "print(text_match(\"the quick brown fox jumps over the lazy dog.\"))\n",
    "print(text_match(\"python exercises_1\"))\n"
   ]
  },
  {
   "cell_type": "code",
   "execution_count": 8,
   "id": "417f69ff",
   "metadata": {},
   "outputs": [
    {
     "name": "stdout",
     "output_type": "stream",
     "text": [
      "I\n",
      "I love\n",
      "I love creamy\n",
      "I love creamy pasta\n",
      "I love creamy pasta and\n",
      "I love creamy pasta and also\n",
      "I love creamy pasta and also\n",
      "I love creamy pasta and also\n",
      "I love creamy pasta and also noodles\n"
     ]
    }
   ],
   "source": [
    "# python program to remove dplicate words from sentence\n",
    "s=\"I love creamy pasta and also love creamy noodles\"\n",
    "l=s.split()\n",
    "k=[]\n",
    "for i in l:\n",
    "    if(s.count(i)>=1  and(i not   in k)):\n",
    "        k.append(i)\n",
    "    print(' '.join(k))\n",
    "\n"
   ]
  },
  {
   "cell_type": "code",
   "execution_count": 9,
   "id": "f0e81d85",
   "metadata": {},
   "outputs": [
    {
     "name": "stdout",
     "output_type": "stream",
     "text": [
      "initial string: abcjw:, .@! eiw\n",
      "final string  :, .@!  \n"
     ]
    }
   ],
   "source": [
    "# python to remove all character except letters and numbers\n",
    "import re\n",
    "ini_string=\"abcjw:, .@! eiw\"\n",
    "print(\"initial string:\",ini_string)\n",
    "result=re.sub('[\\w_]+',' ',ini_string)\n",
    "print(\"final string\",result)"
   ]
  }
 ],
 "metadata": {
  "kernelspec": {
   "display_name": "Python 3 (ipykernel)",
   "language": "python",
   "name": "python3"
  },
  "language_info": {
   "codemirror_mode": {
    "name": "ipython",
    "version": 3
   },
   "file_extension": ".py",
   "mimetype": "text/x-python",
   "name": "python",
   "nbconvert_exporter": "python",
   "pygments_lexer": "ipython3",
   "version": "3.9.13"
  }
 },
 "nbformat": 4,
 "nbformat_minor": 5
}
